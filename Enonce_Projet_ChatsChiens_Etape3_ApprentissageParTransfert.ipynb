{
  "nbformat": 4,
  "nbformat_minor": 0,
  "metadata": {
    "colab": {
      "name": "Enonce_Projet_ChatsChiens_Etape3_ApprentissageParTransfert.ipynb",
      "version": "0.3.2",
      "provenance": [],
      "collapsed_sections": [],
      "include_colab_link": true
    },
    "kernelspec": {
      "name": "python3",
      "display_name": "Python 3"
    },
    "accelerator": "GPU"
  },
  "cells": [
    {
      "cell_type": "markdown",
      "metadata": {
        "id": "view-in-github",
        "colab_type": "text"
      },
      "source": [
        "<a href=\"https://colab.research.google.com/github/uluumy/Fondements-de-l-apprentissage-profond/blob/master/Enonce_Projet_ChatsChiens_Etape3_ApprentissageParTransfert.ipynb\" target=\"_parent\"><img src=\"https://colab.research.google.com/assets/colab-badge.svg\" alt=\"Open In Colab\"/></a>"
      ]
    },
    {
      "cell_type": "markdown",
      "metadata": {
        "id": "jjn5b6oaE8Qf",
        "colab_type": "text"
      },
      "source": [
        "# Projet: Chats vs Chiens\n",
        "## Classification d'images: utilisation de modèle pré-entrainé (apprentissage par transfert)"
      ]
    },
    {
      "cell_type": "markdown",
      "metadata": {
        "id": "tsiTasbkUvKY",
        "colab_type": "text"
      },
      "source": [
        "##Étape 1: Mise en place de l'environnement\n"
      ]
    },
    {
      "cell_type": "markdown",
      "metadata": {
        "id": "cOW8FWm-VbWE",
        "colab_type": "text"
      },
      "source": [
        "### Colab\n",
        "\n",
        "Execution -> Reinitialiser tous les environnemetns d'execussion (lRuntime -> Reset all runtimes)\n",
        "\n",
        "Execussion -> Modifier le type d'execussion -> Accelereateur materiel -> GPU\n"
      ]
    },
    {
      "cell_type": "markdown",
      "metadata": {
        "id": "RMqwzSZ3Vfbu",
        "colab_type": "text"
      },
      "source": [
        "### Librairies à importer"
      ]
    },
    {
      "cell_type": "code",
      "metadata": {
        "id": "YZJHWoRlFJpz",
        "colab_type": "code",
        "colab": {}
      },
      "source": [
        "from __future__ import absolute_import, division, print_function, unicode_literals\n",
        "\n",
        "import os  ## Pour lire les fichiers et la structure des répertoires\n",
        "import matplotlib.pyplot as plt\n",
        "import numpy as np"
      ],
      "execution_count": 0,
      "outputs": []
    },
    {
      "cell_type": "code",
      "metadata": {
        "id": "9yxWaIXvUzaA",
        "colab_type": "code",
        "colab": {}
      },
      "source": [
        "import tensorflow as tf\n",
        "from tensorflow.keras.preprocessing.image import ImageDataGenerator\n",
        "tf.logging.set_verbosity(tf.logging.ERROR)"
      ],
      "execution_count": 0,
      "outputs": []
    },
    {
      "cell_type": "markdown",
      "metadata": {
        "id": "jbt5sQb5ZYY-",
        "colab_type": "text"
      },
      "source": [
        "### Fonctions utiles"
      ]
    },
    {
      "cell_type": "code",
      "metadata": {
        "id": "SYdhEuV2Zb3t",
        "colab_type": "code",
        "colab": {}
      },
      "source": [
        "def plot_history(x,y1,y2,y1_label, y2_label, x_label, y_label,title):\n",
        "  plt.clf()\n",
        "  plt.plot(x, y1, label=y1_label) \n",
        "  plt.plot(x, y2, label=y2_label)\n",
        "  \n",
        "  plt.title(title)\n",
        "  plt.xlabel(x_label)\n",
        "  plt.ylabel(y_label)\n",
        "  plt.legend()\n",
        "  plt.show"
      ],
      "execution_count": 0,
      "outputs": []
    },
    {
      "cell_type": "code",
      "metadata": {
        "id": "j0MN5l_iz8im",
        "colab_type": "code",
        "colab": {}
      },
      "source": [
        "# CEtte fonction affiche l'image.\n",
        "def plotImages(images_arr):\n",
        "    fig, axes = plt.subplots(1, 5, figsize=(20,20))\n",
        "    axes = axes.flatten()\n",
        "    for img, ax in zip( images_arr, axes):\n",
        "        ax.imshow(img)\n",
        "    plt.tight_layout()\n",
        "    plt.show()"
      ],
      "execution_count": 0,
      "outputs": []
    },
    {
      "cell_type": "markdown",
      "metadata": {
        "id": "fToyISkfsrCR",
        "colab_type": "text"
      },
      "source": [
        "### --- TODO --- Instantiation du modele pre-entraine (VGG16)\n",
        "Appeler la methode VGG16. Choisir 'imagenet' comme weights, include_top = False\n",
        "ET bien choisir le parametre input_shape = (???,???,?)"
      ]
    },
    {
      "cell_type": "code",
      "metadata": {
        "id": "51USoHSDsyDs",
        "colab_type": "code",
        "colab": {}
      },
      "source": [
        "from keras.applications import VGG16\n",
        "\n",
        "conv_base = # --- TODO --- ajouter le code ici"
      ],
      "execution_count": 0,
      "outputs": []
    },
    {
      "cell_type": "code",
      "metadata": {
        "id": "DmJB6dnxJnZW",
        "colab_type": "code",
        "colab": {}
      },
      "source": [
        "\n",
        "conv_base.summary()"
      ],
      "execution_count": 0,
      "outputs": []
    },
    {
      "cell_type": "markdown",
      "metadata": {
        "id": "YM4w06rcW33F",
        "colab_type": "text"
      },
      "source": [
        "## Étape 2: Obtention des données"
      ]
    },
    {
      "cell_type": "markdown",
      "metadata": {
        "id": "8fG00Xc4wH9Z",
        "colab_type": "text"
      },
      "source": [
        "### Importer"
      ]
    },
    {
      "cell_type": "code",
      "metadata": {
        "id": "RrtP0BGSWyud",
        "colab_type": "code",
        "colab": {}
      },
      "source": [
        "_URL = 'https://storage.googleapis.com/mledu-datasets/cats_and_dogs_filtered.zip'\n",
        "zip_dir = tf.keras.utils.get_file('cats_and_dogs_filterted.zip', origin=_URL, extract=True)"
      ],
      "execution_count": 0,
      "outputs": []
    },
    {
      "cell_type": "code",
      "metadata": {
        "id": "JeYAzvJZW41k",
        "colab_type": "code",
        "colab": {}
      },
      "source": [
        "zip_dir_base = os.path.dirname(zip_dir)\n",
        "!find $zip_dir_base -type d -print"
      ],
      "execution_count": 0,
      "outputs": []
    },
    {
      "cell_type": "code",
      "metadata": {
        "id": "ni6PXGuzwy9M",
        "colab_type": "code",
        "colab": {}
      },
      "source": [
        "base_dir = os.path.join(os.path.dirname(zip_dir), 'cats_and_dogs_filtered')\n",
        "train_dir = os.path.join(base_dir, 'train')\n",
        "validation_dir = os.path.join(base_dir, 'validation')\n",
        "\n",
        "train_cats_dir = os.path.join(train_dir, 'cats')  # directory with our training cat pictures\n",
        "train_dogs_dir = os.path.join(train_dir, 'dogs')  # directory with our training dog pictures\n",
        "validation_cats_dir = os.path.join(validation_dir, 'cats')  # directory with our validation cat pictures\n",
        "validation_dogs_dir = os.path.join(validation_dir, 'dogs')  # directory with our validation dog pictures"
      ],
      "execution_count": 0,
      "outputs": []
    },
    {
      "cell_type": "markdown",
      "metadata": {
        "id": "iYgGBnYryFTJ",
        "colab_type": "text"
      },
      "source": [
        "## Étape 3: Extraction des features"
      ]
    },
    {
      "cell_type": "code",
      "metadata": {
        "id": "KlYHCfIuuVGu",
        "colab_type": "code",
        "colab": {}
      },
      "source": [
        "datagen = ImageDataGenerator(rescale=1./255)\n",
        "batch_size = 20\n",
        "\n",
        "def extract_features(directory, sample_count):\n",
        "    features = np.zeros(shape=(sample_count, 4, 4, 512))\n",
        "    labels = np.zeros(shape=(sample_count))\n",
        "    generator = datagen.flow_from_directory(\n",
        "        directory,\n",
        "        target_size=(150, 150),\n",
        "        batch_size=batch_size,\n",
        "        class_mode='binary')\n",
        "    i = 0\n",
        "    for inputs_batch, labels_batch in generator:\n",
        "        features_batch = conv_base.predict(inputs_batch)\n",
        "        features[i * batch_size : (i + 1) * batch_size] = features_batch\n",
        "        labels[i * batch_size : (i + 1) * batch_size] = labels_batch\n",
        "        i += 1\n",
        "        if i * batch_size >= sample_count:\n",
        "            # Note that since generators yield data indefinitely in a loop,\n",
        "            # we must `break` after every image has been seen once.\n",
        "            break\n",
        "    return features, labels\n",
        "\n",
        "train_features, train_labels = extract_features(train_dir, 2000)\n",
        "validation_features, validation_labels = extract_features(validation_dir, 1000)"
      ],
      "execution_count": 0,
      "outputs": []
    },
    {
      "cell_type": "markdown",
      "metadata": {
        "id": "4mT_3CnlwRnJ",
        "colab_type": "text"
      },
      "source": [
        "###Avoir les bonnes dimensions"
      ]
    },
    {
      "cell_type": "code",
      "metadata": {
        "id": "9jFDxBomwd2g",
        "colab_type": "code",
        "colab": {}
      },
      "source": [
        "train_features = np.reshape(train_features, (2000, 4 * 4 * 512))\n",
        "validation_features = np.reshape(validation_features, (1000, 4 * 4 * 512))"
      ],
      "execution_count": 0,
      "outputs": []
    },
    {
      "cell_type": "markdown",
      "metadata": {
        "id": "bPX7xWoj2X8a",
        "colab_type": "text"
      },
      "source": [
        "## Étape 4: Création du modèle"
      ]
    },
    {
      "cell_type": "markdown",
      "metadata": {
        "id": "7FneWdz1E5jj",
        "colab_type": "text"
      },
      "source": [
        "### Définir le modèle"
      ]
    },
    {
      "cell_type": "code",
      "metadata": {
        "id": "lEXp2VHY2aVu",
        "colab_type": "code",
        "colab": {}
      },
      "source": [
        "from keras import models\n",
        "from keras import layers\n",
        "from keras import optimizers\n",
        "\n",
        "model = models.Sequential()\n",
        "model.add(layers.Dense(256, activation='relu', input_dim=4 * 4 * 512))\n",
        "model.add(layers.Dropout(0.5))\n",
        "model.add(layers.Dense(1, activation='sigmoid'))"
      ],
      "execution_count": 0,
      "outputs": []
    },
    {
      "cell_type": "markdown",
      "metadata": {
        "id": "bjSuMbCMFNKL",
        "colab_type": "text"
      },
      "source": [
        "### Compiler le modèle"
      ]
    },
    {
      "cell_type": "code",
      "metadata": {
        "id": "3zBCALccFzyz",
        "colab_type": "code",
        "colab": {}
      },
      "source": [
        "model.compile(optimizer=optimizers.RMSprop(lr=2e-5),\n",
        "              loss='binary_crossentropy',\n",
        "              metrics=['acc'])"
      ],
      "execution_count": 0,
      "outputs": []
    },
    {
      "cell_type": "markdown",
      "metadata": {
        "id": "CKV66wFKF05F",
        "colab_type": "text"
      },
      "source": [
        "### Sommaire du modèle"
      ]
    },
    {
      "cell_type": "code",
      "metadata": {
        "id": "HER7oi53F3tw",
        "colab_type": "code",
        "colab": {}
      },
      "source": [
        "model.summary()"
      ],
      "execution_count": 0,
      "outputs": []
    },
    {
      "cell_type": "markdown",
      "metadata": {
        "id": "73I06Ik0GAIN",
        "colab_type": "text"
      },
      "source": [
        "### Entrainer le modèle"
      ]
    },
    {
      "cell_type": "code",
      "metadata": {
        "id": "SDdgGwYqyoGp",
        "colab_type": "code",
        "colab": {}
      },
      "source": [
        "history = model.fit(train_features, train_labels,\n",
        "                    epochs=30,\n",
        "                    batch_size=20,\n",
        "                    validation_data=(validation_features, validation_labels))"
      ],
      "execution_count": 0,
      "outputs": []
    },
    {
      "cell_type": "markdown",
      "metadata": {
        "id": "37JC6_hKG0MW",
        "colab_type": "text"
      },
      "source": [
        "### Visualisation des résultats"
      ]
    },
    {
      "cell_type": "code",
      "metadata": {
        "id": "nbcnNDYeZm9U",
        "colab_type": "code",
        "colab": {}
      },
      "source": [
        "\n",
        "acc = history.history['acc']\n",
        "val_acc = history.history['val_acc']\n",
        "\n",
        "loss = history.history['loss']\n",
        "\n",
        "epochs_range = range(30)\n",
        "val_loss = history.history['val_loss']\n",
        "plot_history(epochs_range, acc, val_acc, 'Training accuracy', 'Validation accuracy', 'Epochs', 'Accuracy','Training and validation Accuracy')"
      ],
      "execution_count": 0,
      "outputs": []
    },
    {
      "cell_type": "markdown",
      "metadata": {
        "id": "9lT1a1RwvHxh",
        "colab_type": "text"
      },
      "source": [
        "ressources\n",
        "https://github.com/uluumy/deep-learning-with-python-notebooks/blob/master/5.3-using-a-pretrained-convnet.ipynb\n",
        "\n",
        "\n"
      ]
    },
    {
      "cell_type": "code",
      "metadata": {
        "id": "YLN93fViy6FC",
        "colab_type": "code",
        "colab": {}
      },
      "source": [
        ""
      ],
      "execution_count": 0,
      "outputs": []
    }
  ]
}