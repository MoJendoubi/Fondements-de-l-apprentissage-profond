{
  "nbformat": 4,
  "nbformat_minor": 0,
  "metadata": {
    "colab": {
      "name": "Un premier cas pratique en Keras classification d’images.ipynb",
      "version": "0.3.2",
      "provenance": [],
      "collapsed_sections": [],
      "include_colab_link": true
    },
    "kernelspec": {
      "name": "python3",
      "display_name": "Python 3"
    },
    "accelerator": "GPU"
  },
  "cells": [
    {
      "cell_type": "markdown",
      "metadata": {
        "id": "view-in-github",
        "colab_type": "text"
      },
      "source": [
        "<a href=\"https://colab.research.google.com/github/uluumy/Fondements-de-l-apprentissage-profond/blob/master/Un_premier_cas_pratique_en_Keras_classification_d%E2%80%99images.ipynb\" target=\"_parent\"><img src=\"https://colab.research.google.com/assets/colab-badge.svg\" alt=\"Open In Colab\"/></a>"
      ]
    },
    {
      "cell_type": "markdown",
      "metadata": {
        "id": "Yf5IyTR9QhxD",
        "colab_type": "text"
      },
      "source": [
        "\n",
        "##Étape 1: Mise en place de l'environnement Keras"
      ]
    },
    {
      "cell_type": "markdown",
      "metadata": {
        "id": "jY54kaayyy1-",
        "colab_type": "text"
      },
      "source": [
        "# Labo : Un premier exemple, Classification d'Images\n",
        "Modèle de base de classification d'images (CIFAR10) en utilisant un réseau de neuronnes profond (fully connected)"
      ]
    },
    {
      "cell_type": "code",
      "metadata": {
        "id": "a9B5GNRS3MQa",
        "colab_type": "code",
        "outputId": "977d2181-623b-4bc4-cbb6-501b6cf6ae47",
        "colab": {
          "base_uri": "https://localhost:8080/",
          "height": 34
        }
      },
      "source": [
        "import keras"
      ],
      "execution_count": 0,
      "outputs": [
        {
          "output_type": "stream",
          "text": [
            "Using TensorFlow backend.\n"
          ],
          "name": "stderr"
        }
      ]
    },
    {
      "cell_type": "markdown",
      "metadata": {
        "id": "OqJgVckAQ465",
        "colab_type": "text"
      },
      "source": [
        "## Étape 2: Obtention des données"
      ]
    },
    {
      "cell_type": "code",
      "metadata": {
        "id": "H7p2unxQ5Lpx",
        "colab_type": "code",
        "colab": {}
      },
      "source": [
        "(train_images, train_labels), (test_images, test_labels) = keras.datasets.cifar10.load_data()\n",
        "train_images = train_images.astype('float32') / 255\n",
        "test_images = test_images.astype('float32') / 255\n",
        "train_labels =  keras.utils.to_categorical(train_labels)\n",
        "test_labels = keras.utils.to_categorical(test_labels)"
      ],
      "execution_count": 0,
      "outputs": []
    },
    {
      "cell_type": "markdown",
      "metadata": {
        "id": "FLioxepth9MU",
        "colab_type": "text"
      },
      "source": [
        "## Étape 3: Définition de l'architecture du modèle"
      ]
    },
    {
      "cell_type": "code",
      "metadata": {
        "id": "-_lXL4yFZC7t",
        "colab_type": "code",
        "outputId": "46a153f7-9ddd-44ac-c456-98bc9682787c",
        "colab": {
          "base_uri": "https://localhost:8080/",
          "height": 89
        }
      },
      "source": [
        "model = keras.models.Sequential()\n",
        "model.add(keras.layers.Flatten(input_shape=(train_images.shape[1],train_images.shape[2],train_images.shape[3])))\n",
        "model.add(keras.layers.Dense(128, activation='relu'))\n",
        "model.add(keras.layers.Dense(128, activation='relu'))\n",
        "model.add(keras.layers.Dense(10, activation='softmax'))"
      ],
      "execution_count": 0,
      "outputs": [
        {
          "output_type": "stream",
          "text": [
            "WARNING:tensorflow:From /usr/local/lib/python3.6/dist-packages/tensorflow/python/framework/op_def_library.py:263: colocate_with (from tensorflow.python.framework.ops) is deprecated and will be removed in a future version.\n",
            "Instructions for updating:\n",
            "Colocations handled automatically by placer.\n"
          ],
          "name": "stdout"
        }
      ]
    },
    {
      "cell_type": "code",
      "metadata": {
        "id": "CiTRMOezXfLK",
        "colab_type": "code",
        "colab": {}
      },
      "source": [
        "model.compile(optimizer='rmsprop', loss='categorical_crossentropy', metrics=['accuracy'])"
      ],
      "execution_count": 0,
      "outputs": []
    },
    {
      "cell_type": "markdown",
      "metadata": {
        "id": "QCpNfHcLQVod",
        "colab_type": "text"
      },
      "source": [
        "## Étape 4: Entrainement du modèle"
      ]
    },
    {
      "cell_type": "code",
      "metadata": {
        "id": "_Q9VVuTdQcLu",
        "colab_type": "code",
        "outputId": "0ffccbf8-5509-4ab2-9b26-f4c14525e211",
        "colab": {
          "base_uri": "https://localhost:8080/",
          "height": 797
        }
      },
      "source": [
        "model.fit(train_images, train_labels,  batch_size=128, epochs=20)"
      ],
      "execution_count": 0,
      "outputs": [
        {
          "output_type": "stream",
          "text": [
            "WARNING:tensorflow:From /usr/local/lib/python3.6/dist-packages/tensorflow/python/ops/math_ops.py:3066: to_int32 (from tensorflow.python.ops.math_ops) is deprecated and will be removed in a future version.\n",
            "Instructions for updating:\n",
            "Use tf.cast instead.\n",
            "Epoch 1/20\n",
            "50000/50000 [==============================] - 3s 58us/step - loss: 2.0546 - acc: 0.2632\n",
            "Epoch 2/20\n",
            "50000/50000 [==============================] - 2s 36us/step - loss: 1.7980 - acc: 0.3549\n",
            "Epoch 3/20\n",
            "50000/50000 [==============================] - 2s 37us/step - loss: 1.7144 - acc: 0.3865\n",
            "Epoch 4/20\n",
            "50000/50000 [==============================] - 2s 37us/step - loss: 1.6546 - acc: 0.4094\n",
            "Epoch 5/20\n",
            "50000/50000 [==============================] - 2s 36us/step - loss: 1.6108 - acc: 0.4249\n",
            "Epoch 6/20\n",
            "50000/50000 [==============================] - 2s 40us/step - loss: 1.5746 - acc: 0.4397\n",
            "Epoch 7/20\n",
            "50000/50000 [==============================] - 2s 40us/step - loss: 1.5438 - acc: 0.4507\n",
            "Epoch 8/20\n",
            "50000/50000 [==============================] - 2s 40us/step - loss: 1.5226 - acc: 0.4579\n",
            "Epoch 9/20\n",
            "50000/50000 [==============================] - 2s 41us/step - loss: 1.5046 - acc: 0.4650\n",
            "Epoch 10/20\n",
            "50000/50000 [==============================] - 2s 41us/step - loss: 1.4840 - acc: 0.4684\n",
            "Epoch 11/20\n",
            "50000/50000 [==============================] - 2s 36us/step - loss: 1.4649 - acc: 0.4784\n",
            "Epoch 12/20\n",
            "50000/50000 [==============================] - 2s 37us/step - loss: 1.4504 - acc: 0.4840\n",
            "Epoch 13/20\n",
            "50000/50000 [==============================] - 2s 36us/step - loss: 1.4384 - acc: 0.4890\n",
            "Epoch 14/20\n",
            "50000/50000 [==============================] - 2s 36us/step - loss: 1.4257 - acc: 0.4908\n",
            "Epoch 15/20\n",
            "50000/50000 [==============================] - 2s 37us/step - loss: 1.4139 - acc: 0.4971\n",
            "Epoch 16/20\n",
            "50000/50000 [==============================] - 2s 36us/step - loss: 1.4040 - acc: 0.5029\n",
            "Epoch 17/20\n",
            "50000/50000 [==============================] - 2s 36us/step - loss: 1.3916 - acc: 0.5039\n",
            "Epoch 18/20\n",
            "50000/50000 [==============================] - 2s 36us/step - loss: 1.3817 - acc: 0.5093\n",
            "Epoch 19/20\n",
            "50000/50000 [==============================] - 2s 37us/step - loss: 1.3723 - acc: 0.5115\n",
            "Epoch 20/20\n",
            "50000/50000 [==============================] - 2s 37us/step - loss: 1.3652 - acc: 0.5153\n"
          ],
          "name": "stdout"
        },
        {
          "output_type": "execute_result",
          "data": {
            "text/plain": [
              "<keras.callbacks.History at 0x7fb5830b4160>"
            ]
          },
          "metadata": {
            "tags": []
          },
          "execution_count": 5
        }
      ]
    },
    {
      "cell_type": "markdown",
      "metadata": {
        "id": "F8TQpbYSU501",
        "colab_type": "text"
      },
      "source": [
        "## Étape 5: Évaluation du modèle"
      ]
    },
    {
      "cell_type": "code",
      "metadata": {
        "id": "uWemkR6EagP_",
        "colab_type": "code",
        "outputId": "279232af-270c-4e7a-b2b0-e32c1e9b55a1",
        "colab": {
          "base_uri": "https://localhost:8080/",
          "height": 52
        }
      },
      "source": [
        "test_loss, test_accuracy = model.evaluate(test_images, test_labels)\n",
        "print('test accuracy:', test_accuracy)"
      ],
      "execution_count": 0,
      "outputs": [
        {
          "output_type": "stream",
          "text": [
            "10000/10000 [==============================] - 1s 54us/step\n",
            "test accuracy: 0.4886\n"
          ],
          "name": "stdout"
        }
      ]
    },
    {
      "cell_type": "markdown",
      "metadata": {
        "id": "zAQlIVFoVFGb",
        "colab_type": "text"
      },
      "source": [
        "## Étape 6: Prédictions du modèle"
      ]
    },
    {
      "cell_type": "code",
      "metadata": {
        "id": "j5l7H3tqbC1r",
        "colab_type": "code",
        "colab": {}
      },
      "source": [
        "prediction = model.predict(test_images)"
      ],
      "execution_count": 0,
      "outputs": []
    },
    {
      "cell_type": "markdown",
      "metadata": {
        "id": "mR9mRlz_P29d",
        "colab_type": "text"
      },
      "source": [
        "##À vous\n",
        "\n",
        "1- Essayer de coder chaque étape du notebook.\n",
        "\n",
        "2- Dans la 3e étape: modifier le premier paramètre dans la couche Dense. Par exemple remplacer ici: **model.add(keras.layers.Dense(128, activation='relu'))** le nombre d'unité 128 par 256 dans"
      ]
    },
    {
      "cell_type": "code",
      "metadata": {
        "id": "FSKFWkBiQ1af",
        "colab_type": "code",
        "colab": {}
      },
      "source": [
        ""
      ],
      "execution_count": 0,
      "outputs": []
    }
  ]
}