{
  "nbformat": 4,
  "nbformat_minor": 0,
  "metadata": {
    "colab": {
      "name": "Un premier cas pratique en Keras classification d’images.ipynb",
      "version": "0.3.2",
      "provenance": [],
      "collapsed_sections": [],
      "include_colab_link": true
    },
    "kernelspec": {
      "name": "python3",
      "display_name": "Python 3"
    },
    "accelerator": "GPU"
  },
  "cells": [
    {
      "cell_type": "markdown",
      "metadata": {
        "id": "view-in-github",
        "colab_type": "text"
      },
      "source": [
        "<a href=\"https://colab.research.google.com/github/uluumy/Fondements-de-l-apprentissage-profond/blob/master/Un_premier_cas_pratique_en_Keras_classification_d%E2%80%99images.ipynb\" target=\"_parent\"><img src=\"https://colab.research.google.com/assets/colab-badge.svg\" alt=\"Open In Colab\"/></a>"
      ]
    },
    {
      "cell_type": "markdown",
      "metadata": {
        "id": "jY54kaayyy1-",
        "colab_type": "text"
      },
      "source": [
        "# Labo : Un premier exemple, Classification d'Images\n",
        "Modèle de base de classification d'images (CIFAR10) en utilisant un réseau de neuronnes profond (fully connected)"
      ]
    },
    {
      "cell_type": "markdown",
      "metadata": {
        "id": "Yf5IyTR9QhxD",
        "colab_type": "text"
      },
      "source": [
        "\n",
        "##Étape 1: Mise en place de l'environnement Keras"
      ]
    },
    {
      "cell_type": "code",
      "metadata": {
        "id": "a9B5GNRS3MQa",
        "colab_type": "code",
        "colab": {}
      },
      "source": [
        "import keras"
      ],
      "execution_count": 0,
      "outputs": []
    },
    {
      "cell_type": "markdown",
      "metadata": {
        "id": "OqJgVckAQ465",
        "colab_type": "text"
      },
      "source": [
        "## Étape 2: Obtention des données"
      ]
    },
    {
      "cell_type": "code",
      "metadata": {
        "id": "H7p2unxQ5Lpx",
        "colab_type": "code",
        "colab": {}
      },
      "source": [
        "(train_images, train_labels), (test_images, test_labels) = keras.datasets.cifar10.load_data()\n",
        "train_images = train_images.astype('float32') / 255\n",
        "test_images = test_images.astype('float32') / 255\n",
        "train_labels =  keras.utils.to_categorical(train_labels)\n",
        "test_labels = keras.utils.to_categorical(test_labels)"
      ],
      "execution_count": 0,
      "outputs": []
    },
    {
      "cell_type": "markdown",
      "metadata": {
        "id": "FLioxepth9MU",
        "colab_type": "text"
      },
      "source": [
        "## Étape 3: Définition de l'architecture du modèle"
      ]
    },
    {
      "cell_type": "code",
      "metadata": {
        "id": "-_lXL4yFZC7t",
        "colab_type": "code",
        "colab": {}
      },
      "source": [
        "model = keras.models.Sequential()\n",
        "model.add(keras.layers.Flatten(input_shape=(train_images.shape[1],train_images.shape[2],train_images.shape[3])))\n",
        "model.add(keras.layers.Dense(128, activation='relu'))\n",
        "model.add(keras.layers.Dense(128, activation='relu'))\n",
        "model.add(keras.layers.Dense(10, activation='softmax'))"
      ],
      "execution_count": 0,
      "outputs": []
    },
    {
      "cell_type": "code",
      "metadata": {
        "id": "CiTRMOezXfLK",
        "colab_type": "code",
        "colab": {}
      },
      "source": [
        "model.compile(optimizer='rmsprop', loss='categorical_crossentropy', metrics=['accuracy'])"
      ],
      "execution_count": 0,
      "outputs": []
    },
    {
      "cell_type": "markdown",
      "metadata": {
        "id": "QCpNfHcLQVod",
        "colab_type": "text"
      },
      "source": [
        "## Étape 4: Entrainement du modèle"
      ]
    },
    {
      "cell_type": "code",
      "metadata": {
        "id": "_Q9VVuTdQcLu",
        "colab_type": "code",
        "colab": {}
      },
      "source": [
        "model.fit(train_images, train_labels,  batch_size=256, epochs=20)"
      ],
      "execution_count": 0,
      "outputs": []
    },
    {
      "cell_type": "markdown",
      "metadata": {
        "id": "F8TQpbYSU501",
        "colab_type": "text"
      },
      "source": [
        "## Étape 5: Évaluation du modèle"
      ]
    },
    {
      "cell_type": "code",
      "metadata": {
        "id": "uWemkR6EagP_",
        "colab_type": "code",
        "colab": {}
      },
      "source": [
        "test_loss, test_accuracy = model.evaluate(test_images, test_labels)\n",
        "print('test accuracy:', test_accuracy)"
      ],
      "execution_count": 0,
      "outputs": []
    },
    {
      "cell_type": "markdown",
      "metadata": {
        "id": "zAQlIVFoVFGb",
        "colab_type": "text"
      },
      "source": [
        "## Étape 6: Prédictions du modèle"
      ]
    },
    {
      "cell_type": "code",
      "metadata": {
        "id": "j5l7H3tqbC1r",
        "colab_type": "code",
        "colab": {}
      },
      "source": [
        "prediction = model.predict(test_images)"
      ],
      "execution_count": 0,
      "outputs": []
    },
    {
      "cell_type": "markdown",
      "metadata": {
        "id": "mR9mRlz_P29d",
        "colab_type": "text"
      },
      "source": [
        "##À vous\n",
        "\n",
        "1- Essayer de coder chaque étape du notebook.\n",
        "\n",
        "2- Dans la 3e étape: modifier le premier paramètre dans la couche Dense. Par exemple remplacer ici: **model.add(keras.layers.Dense(128, activation='relu'))** le nombre d'unité 128 par 256 dans"
      ]
    }
  ]
}