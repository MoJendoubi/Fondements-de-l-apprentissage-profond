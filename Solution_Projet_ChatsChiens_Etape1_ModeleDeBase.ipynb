{
  "nbformat": 4,
  "nbformat_minor": 0,
  "metadata": {
    "colab": {
      "name": "Solution_Projet_ChatsChiens_Etape1_ModeleDeBase.ipynb",
      "version": "0.3.2",
      "provenance": [],
      "collapsed_sections": [],
      "include_colab_link": true
    },
    "kernelspec": {
      "name": "python3",
      "display_name": "Python 3"
    },
    "accelerator": "GPU"
  },
  "cells": [
    {
      "cell_type": "markdown",
      "metadata": {
        "id": "view-in-github",
        "colab_type": "text"
      },
      "source": [
        "<a href=\"https://colab.research.google.com/github/uluumy/Fondements-de-l-apprentissage-profond/blob/master/Solution_Projet_ChatsChiens_Etape1_ModeleDeBase.ipynb\" target=\"_parent\"><img src=\"https://colab.research.google.com/assets/colab-badge.svg\" alt=\"Open In Colab\"/></a>"
      ]
    },
    {
      "cell_type": "markdown",
      "metadata": {
        "id": "jjn5b6oaE8Qf",
        "colab_type": "text"
      },
      "source": [
        "# Projet: Chats vs Chiens\n",
        "## Classification d'images: baseline model"
      ]
    },
    {
      "cell_type": "markdown",
      "metadata": {
        "id": "tsiTasbkUvKY",
        "colab_type": "text"
      },
      "source": [
        "##Étape 1: Mise en place de l'environnement\n"
      ]
    },
    {
      "cell_type": "markdown",
      "metadata": {
        "id": "cOW8FWm-VbWE",
        "colab_type": "text"
      },
      "source": [
        "### Colab\n",
        "\n",
        "Execution -> Reinitialiser tous les environnemetns d'execussion (lRuntime -> Reset all runtimes)\n",
        "\n",
        "Execussion -> Modifier le type d'execussion -> Accelereateur materiel -> GPU\n"
      ]
    },
    {
      "cell_type": "markdown",
      "metadata": {
        "id": "RMqwzSZ3Vfbu",
        "colab_type": "text"
      },
      "source": [
        "### Librairies à importer"
      ]
    },
    {
      "cell_type": "code",
      "metadata": {
        "id": "YZJHWoRlFJpz",
        "colab_type": "code",
        "colab": {}
      },
      "source": [
        "from __future__ import absolute_import, division, print_function, unicode_literals\n",
        "\n",
        "import os  ## Pour lire les fichiers et la structure des répertoires\n",
        "import matplotlib.pyplot as plt\n",
        "import numpy as np"
      ],
      "execution_count": 0,
      "outputs": []
    },
    {
      "cell_type": "code",
      "metadata": {
        "id": "9yxWaIXvUzaA",
        "colab_type": "code",
        "colab": {}
      },
      "source": [
        "import tensorflow as tf\n",
        "from tensorflow.keras.preprocessing.image import ImageDataGenerator\n",
        "tf.logging.set_verbosity(tf.logging.ERROR)"
      ],
      "execution_count": 0,
      "outputs": []
    },
    {
      "cell_type": "markdown",
      "metadata": {
        "id": "jbt5sQb5ZYY-",
        "colab_type": "text"
      },
      "source": [
        "### Fonctions utiles"
      ]
    },
    {
      "cell_type": "code",
      "metadata": {
        "id": "SYdhEuV2Zb3t",
        "colab_type": "code",
        "colab": {}
      },
      "source": [
        "def plot_history(x,y1,y2,y1_label, y2_label, x_label, y_label,title):\n",
        "  plt.clf()\n",
        "  plt.plot(x, y1, label=y1_label) \n",
        "  plt.plot(x, y2, label=y2_label)\n",
        "  \n",
        "  plt.title(title)\n",
        "  plt.xlabel(x_label)\n",
        "  plt.ylabel(y_label)\n",
        "  plt.legend()\n",
        "  plt.show"
      ],
      "execution_count": 0,
      "outputs": []
    },
    {
      "cell_type": "code",
      "metadata": {
        "id": "j0MN5l_iz8im",
        "colab_type": "code",
        "colab": {}
      },
      "source": [
        "# CEtte fonction affiche l'image.\n",
        "def plotImages(images_arr):\n",
        "    fig, axes = plt.subplots(1, 5, figsize=(20,20))\n",
        "    axes = axes.flatten()\n",
        "    for img, ax in zip( images_arr, axes):\n",
        "        ax.imshow(img)\n",
        "    plt.tight_layout()\n",
        "    plt.show()"
      ],
      "execution_count": 0,
      "outputs": []
    },
    {
      "cell_type": "markdown",
      "metadata": {
        "id": "YM4w06rcW33F",
        "colab_type": "text"
      },
      "source": [
        "## Étape 2: Obtention des données"
      ]
    },
    {
      "cell_type": "markdown",
      "metadata": {
        "id": "8fG00Xc4wH9Z",
        "colab_type": "text"
      },
      "source": [
        "### Importer"
      ]
    },
    {
      "cell_type": "code",
      "metadata": {
        "id": "RrtP0BGSWyud",
        "colab_type": "code",
        "colab": {}
      },
      "source": [
        "_URL = 'https://storage.googleapis.com/mledu-datasets/cats_and_dogs_filtered.zip'\n",
        "zip_dir = tf.keras.utils.get_file('cats_and_dogs_filterted.zip', origin=_URL, extract=True)"
      ],
      "execution_count": 0,
      "outputs": []
    },
    {
      "cell_type": "code",
      "metadata": {
        "id": "JeYAzvJZW41k",
        "colab_type": "code",
        "colab": {}
      },
      "source": [
        "zip_dir_base = os.path.dirname(zip_dir)\n",
        "!find $zip_dir_base -type d -print"
      ],
      "execution_count": 0,
      "outputs": []
    },
    {
      "cell_type": "code",
      "metadata": {
        "id": "ni6PXGuzwy9M",
        "colab_type": "code",
        "colab": {}
      },
      "source": [
        "base_dir = os.path.join(os.path.dirname(zip_dir), 'cats_and_dogs_filtered')\n",
        "train_dir = os.path.join(base_dir, 'train')\n",
        "validation_dir = os.path.join(base_dir, 'validation')\n",
        "\n",
        "train_cats_dir = os.path.join(train_dir, 'cats')  # directory with our training cat pictures\n",
        "train_dogs_dir = os.path.join(train_dir, 'dogs')  # directory with our training dog pictures\n",
        "validation_cats_dir = os.path.join(validation_dir, 'cats')  # directory with our validation cat pictures\n",
        "validation_dogs_dir = os.path.join(validation_dir, 'dogs')  # directory with our validation dog pictures"
      ],
      "execution_count": 0,
      "outputs": []
    },
    {
      "cell_type": "markdown",
      "metadata": {
        "id": "4mT_3CnlwRnJ",
        "colab_type": "text"
      },
      "source": [
        "###Comprendre les données"
      ]
    },
    {
      "cell_type": "code",
      "metadata": {
        "id": "9jFDxBomwd2g",
        "colab_type": "code",
        "colab": {}
      },
      "source": [
        "num_cats_tr = len(os.listdir(train_cats_dir))\n",
        "num_dogs_tr = len(os.listdir(train_dogs_dir))\n",
        "\n",
        "num_cats_val = len(os.listdir(validation_cats_dir))\n",
        "num_dogs_val = len(os.listdir(validation_dogs_dir))\n",
        "\n",
        "total_train = num_cats_tr + num_dogs_tr\n",
        "total_val = num_cats_val + num_dogs_val"
      ],
      "execution_count": 0,
      "outputs": []
    },
    {
      "cell_type": "code",
      "metadata": {
        "id": "HEy2HFBaxDs8",
        "colab_type": "code",
        "colab": {}
      },
      "source": [
        "print('total training cat images:', num_cats_tr)\n",
        "print('total training dog images:', num_dogs_tr)\n",
        "\n",
        "print('total validation cat images:', num_cats_val)\n",
        "print('total validation dog images:', num_dogs_val)\n",
        "print(\"--\")\n",
        "print(\"Total training images:\", total_train)\n",
        "print(\"Total validation images:\", total_val)"
      ],
      "execution_count": 0,
      "outputs": []
    },
    {
      "cell_type": "markdown",
      "metadata": {
        "id": "66j6DVNWxwA_",
        "colab_type": "text"
      },
      "source": [
        "### Mise en place des paramétres du modéle"
      ]
    },
    {
      "cell_type": "code",
      "metadata": {
        "id": "w5iz08GBxuA6",
        "colab_type": "code",
        "colab": {}
      },
      "source": [
        "BATCH_SIZE = 256  # Number of training examples to process before updating our models variables\n",
        "IMG_SHAPE  = 150  # Our training data consists of images with width of 150 pixels and height of 150 pixels"
      ],
      "execution_count": 0,
      "outputs": []
    },
    {
      "cell_type": "markdown",
      "metadata": {
        "id": "iYgGBnYryFTJ",
        "colab_type": "text"
      },
      "source": [
        "## Étape 3: Préparation des données"
      ]
    },
    {
      "cell_type": "code",
      "metadata": {
        "id": "KuyaK-j3zMcj",
        "colab_type": "code",
        "colab": {}
      },
      "source": [
        "train_image_generator      = ImageDataGenerator(rescale=1./255)  # Generator for our training data\n",
        "validation_image_generator = ImageDataGenerator(rescale=1./255)  # Generator for our validation data\n",
        "\n",
        "\n",
        "train_data_gen = train_image_generator.flow_from_directory(batch_size=BATCH_SIZE, \n",
        "                                                           directory=train_dir, \n",
        "                                                           shuffle=True, \n",
        "                                                           target_size=(IMG_SHAPE,IMG_SHAPE), #(150,150) \n",
        "                                                           class_mode='binary')\n",
        "\n",
        "val_data_gen = validation_image_generator.flow_from_directory(batch_size=BATCH_SIZE, \n",
        "                                                              directory=validation_dir,\n",
        "                                                              shuffle=False,\n",
        "                                                              target_size=(IMG_SHAPE,IMG_SHAPE), #(150,150)\n",
        "                                                              class_mode='binary')\n"
      ],
      "execution_count": 0,
      "outputs": []
    },
    {
      "cell_type": "markdown",
      "metadata": {
        "id": "3O-m1NjKz2ZP",
        "colab_type": "text"
      },
      "source": [
        "### Visualisation des données"
      ]
    },
    {
      "cell_type": "code",
      "metadata": {
        "id": "Wa0Eqebq0AKR",
        "colab_type": "code",
        "colab": {}
      },
      "source": [
        "sample_training_images, _ = next(train_data_gen) \n",
        "\n",
        "plotImages(sample_training_images[:5])  # Plot images 0-4"
      ],
      "execution_count": 0,
      "outputs": []
    },
    {
      "cell_type": "markdown",
      "metadata": {
        "id": "bPX7xWoj2X8a",
        "colab_type": "text"
      },
      "source": [
        "## Étape 4: Création du modèle"
      ]
    },
    {
      "cell_type": "markdown",
      "metadata": {
        "id": "7FneWdz1E5jj",
        "colab_type": "text"
      },
      "source": [
        "### Définir le modèle"
      ]
    },
    {
      "cell_type": "code",
      "metadata": {
        "id": "lEXp2VHY2aVu",
        "colab_type": "code",
        "colab": {}
      },
      "source": [
        "model = tf.keras.models.Sequential([\n",
        "    tf.keras.layers.Conv2D(32, (3,3), activation='relu', input_shape=(150, 150, 3)),\n",
        "    tf.keras.layers.MaxPooling2D(2, 2),\n",
        "\n",
        "    tf.keras.layers.Conv2D(64, (3,3), activation='relu'),\n",
        "    tf.keras.layers.MaxPooling2D(2,2),\n",
        "    \n",
        "    tf.keras.layers.Conv2D(128, (3,3), activation='relu'),\n",
        "    tf.keras.layers.MaxPooling2D(2,2),\n",
        "    \n",
        "    tf.keras.layers.Conv2D(128, (3,3), activation='relu'),\n",
        "    tf.keras.layers.MaxPooling2D(2,2),\n",
        "    \n",
        "    tf.keras.layers.Flatten(),\n",
        "    tf.keras.layers.Dense(512, activation='relu'),\n",
        "    tf.keras.layers.Dense(2, activation='softmax')\n",
        "])"
      ],
      "execution_count": 0,
      "outputs": []
    },
    {
      "cell_type": "markdown",
      "metadata": {
        "id": "bjSuMbCMFNKL",
        "colab_type": "text"
      },
      "source": [
        "### Compiler le modèle"
      ]
    },
    {
      "cell_type": "code",
      "metadata": {
        "id": "3zBCALccFzyz",
        "colab_type": "code",
        "colab": {}
      },
      "source": [
        "model.compile(optimizer='adam', \n",
        "              loss='sparse_categorical_crossentropy',\n",
        "              metrics=['accuracy'])"
      ],
      "execution_count": 0,
      "outputs": []
    },
    {
      "cell_type": "markdown",
      "metadata": {
        "id": "CKV66wFKF05F",
        "colab_type": "text"
      },
      "source": [
        "### Sommaire du modèle"
      ]
    },
    {
      "cell_type": "code",
      "metadata": {
        "id": "HER7oi53F3tw",
        "colab_type": "code",
        "colab": {}
      },
      "source": [
        "model.summary()"
      ],
      "execution_count": 0,
      "outputs": []
    },
    {
      "cell_type": "markdown",
      "metadata": {
        "id": "73I06Ik0GAIN",
        "colab_type": "text"
      },
      "source": [
        "### Entrainer le modèle"
      ]
    },
    {
      "cell_type": "code",
      "metadata": {
        "id": "SDdgGwYqyoGp",
        "colab_type": "code",
        "colab": {}
      },
      "source": [
        "EPOCHS = 50\n",
        "history = model.fit_generator(\n",
        "    train_data_gen,\n",
        "    steps_per_epoch=int(np.ceil(total_train / float(BATCH_SIZE))),\n",
        "    epochs=EPOCHS,\n",
        "    validation_data=val_data_gen,\n",
        "    validation_steps=int(np.ceil(total_val / float(BATCH_SIZE)))\n",
        ")"
      ],
      "execution_count": 0,
      "outputs": []
    },
    {
      "cell_type": "markdown",
      "metadata": {
        "id": "37JC6_hKG0MW",
        "colab_type": "text"
      },
      "source": [
        "### Visualisation des résultats"
      ]
    },
    {
      "cell_type": "code",
      "metadata": {
        "id": "nbcnNDYeZm9U",
        "colab_type": "code",
        "colab": {}
      },
      "source": [
        "\n",
        "acc = history.history['acc']\n",
        "val_acc = history.history['val_acc']\n",
        "\n",
        "loss = history.history['loss']\n",
        "\n",
        "epochs_range = range(EPOCHS)\n",
        "val_loss = history.history['val_loss']\n",
        "plot_history(epochs_range, acc, val_acc, 'Training accuracy', 'Validation accuracy', 'Epochs', 'Accuracy','Training and validation Accuracy')"
      ],
      "execution_count": 0,
      "outputs": []
    },
    {
      "cell_type": "code",
      "metadata": {
        "id": "Jv7e7tgiEQ_M",
        "colab_type": "code",
        "colab": {}
      },
      "source": [
        "print('train accuracy:', acc[49])\n",
        "print('validation accuracy:', val_acc[49])\n"
      ],
      "execution_count": 0,
      "outputs": []
    },
    {
      "cell_type": "markdown",
      "metadata": {
        "id": "9lT1a1RwvHxh",
        "colab_type": "text"
      },
      "source": [
        "ressources\n",
        "https://colab.research.google.com/github/tensorflow/examples/blob/master/courses/udacity_intro_to_tensorflow_for_deep_learning/l05c01_dogs_vs_cats_without_augmentation.ipynb#scrollTo=rtPGh2MAVrVa\n",
        "\n",
        "https://github.com/uluumy/deep-learning-with-python-notebooks/blob/master/5.2-using-convnets-with-small-datasets.ipynb\n"
      ]
    },
    {
      "cell_type": "code",
      "metadata": {
        "id": "E95xqsCGzcfD",
        "colab_type": "code",
        "colab": {}
      },
      "source": [
        ""
      ],
      "execution_count": 0,
      "outputs": []
    }
  ]
}