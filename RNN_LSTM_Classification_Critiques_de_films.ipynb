{
  "nbformat": 4,
  "nbformat_minor": 0,
  "metadata": {
    "colab": {
      "name": "RNN-LSTM - Classification Critiques de films.ipynb",
      "version": "0.3.2",
      "provenance": [],
      "collapsed_sections": [],
      "include_colab_link": true
    },
    "kernelspec": {
      "name": "python3",
      "display_name": "Python 3"
    },
    "accelerator": "GPU"
  },
  "cells": [
    {
      "cell_type": "markdown",
      "metadata": {
        "id": "view-in-github",
        "colab_type": "text"
      },
      "source": [
        "<a href=\"https://colab.research.google.com/github/uluumy/Fondements-de-l-apprentissage-profond/blob/master/RNN_LSTM_Classification_Critiques_de_films.ipynb\" target=\"_parent\"><img src=\"https://colab.research.google.com/assets/colab-badge.svg\" alt=\"Open In Colab\"/></a>"
      ]
    },
    {
      "cell_type": "markdown",
      "metadata": {
        "id": "D7EbL-c5M7rk",
        "colab_type": "text"
      },
      "source": [
        "# Labo: Analyse des sentiments, Données de type texte\n",
        "\n",
        "Dans ce labo, nous allons aborder un problème de classification binaire en utilisant des données textuelles, en occurrence les critiques de films.\n",
        "L'objetif est de créer un modèle permettant de classer la critique du film en 2 catégories: positif et négatif.\n",
        "\n",
        "Nous commencerons par utiliser un réseau de neurones fully connected.\n",
        "\n",
        "Par la suite nous construirons un réseau de neurones de type RNN (avec LSTM)\n"
      ]
    },
    {
      "cell_type": "markdown",
      "metadata": {
        "id": "N_e6G7D4UBRS",
        "colab_type": "text"
      },
      "source": [
        "##Étape 1: Mise en place de l'environnement"
      ]
    },
    {
      "cell_type": "markdown",
      "metadata": {
        "id": "eXsruKRKKTE3",
        "colab_type": "text"
      },
      "source": [
        "### Installer la version 1.16.2 de numpy\n",
        "A la date de création de ce labo (19-05-2019), une erreur dans le load_data est apparue avec la version actuelle de numpy (1.16.3).\n",
        "L'utilisation de la version précédente de numpy 1.16.2 permet de résoudre le problème"
      ]
    },
    {
      "cell_type": "code",
      "metadata": {
        "id": "-TuvA1DvTdb7",
        "colab_type": "code",
        "outputId": "6282ab98-3034-4284-c286-5be5eade9ea2",
        "colab": {
          "base_uri": "https://localhost:8080/",
          "height": 51
        }
      },
      "source": [
        "!pip install numpy==1.16.2\n",
        "import numpy as np\n",
        "print(np.version)"
      ],
      "execution_count": 2,
      "outputs": [
        {
          "output_type": "stream",
          "text": [
            "Requirement already satisfied: numpy==1.16.2 in /usr/local/lib/python3.6/dist-packages (1.16.2)\n",
            "<module 'numpy.version' from '/usr/local/lib/python3.6/dist-packages/numpy/version.py'>\n"
          ],
          "name": "stdout"
        }
      ]
    },
    {
      "cell_type": "code",
      "metadata": {
        "id": "PrSeIzNfKr7i",
        "colab_type": "code",
        "outputId": "07855513-bed9-4543-ff68-4df500b22bcc",
        "colab": {
          "base_uri": "https://localhost:8080/",
          "height": 34
        }
      },
      "source": [
        "np.__version__"
      ],
      "execution_count": 3,
      "outputs": [
        {
          "output_type": "execute_result",
          "data": {
            "text/plain": [
              "'1.16.2'"
            ]
          },
          "metadata": {
            "tags": []
          },
          "execution_count": 3
        }
      ]
    },
    {
      "cell_type": "markdown",
      "metadata": {
        "id": "oh0VOkCc8b94",
        "colab_type": "text"
      },
      "source": [
        "### Librairies à importer"
      ]
    },
    {
      "cell_type": "code",
      "metadata": {
        "id": "geoeUT78dZhQ",
        "colab_type": "code",
        "outputId": "b04489d9-bf7c-4772-f5de-a530677e436d",
        "colab": {
          "base_uri": "https://localhost:8080/",
          "height": 51
        }
      },
      "source": [
        "#import numpy as np\n",
        "import matplotlib.pyplot as plt\n",
        "\n",
        "import keras\n",
        "from keras import models\n",
        "from keras import layers\n",
        "from keras import optimizers\n",
        "from keras import losses\n",
        "from keras import metrics\n",
        "from keras.datasets import imdb\n",
        "\n",
        "keras.__version__"
      ],
      "execution_count": 4,
      "outputs": [
        {
          "output_type": "stream",
          "text": [
            "Using TensorFlow backend.\n"
          ],
          "name": "stderr"
        },
        {
          "output_type": "execute_result",
          "data": {
            "text/plain": [
              "'2.2.4'"
            ]
          },
          "metadata": {
            "tags": []
          },
          "execution_count": 4
        }
      ]
    },
    {
      "cell_type": "markdown",
      "metadata": {
        "id": "L2Tt5qzT8geV",
        "colab_type": "text"
      },
      "source": [
        "### Des fonctions utiles"
      ]
    },
    {
      "cell_type": "code",
      "metadata": {
        "id": "bakCFYIU9Jdy",
        "colab_type": "code",
        "colab": {}
      },
      "source": [
        "def plot_history(x,y1,y2,y1_label, y2_label, x_label, y_label,title):\n",
        "  plt.clf()\n",
        "  plt.plot(x, y1, 'bo', label=y1_label) # 'bo' pour \"blue dot\"\n",
        "  plt.plot(x, y2, 'b', label=y2_label) # 'b' pour \"solid blue line\"\n",
        "  plt.title(title)\n",
        "  plt.xlabel(x_label)\n",
        "  plt.ylabel(y_label)\n",
        "  plt.legend()\n",
        "  plt.show"
      ],
      "execution_count": 0,
      "outputs": []
    },
    {
      "cell_type": "markdown",
      "metadata": {
        "id": "kVO4_XlDNsZ1",
        "colab_type": "text"
      },
      "source": [
        "##Étape 2: Obtention des données: le Dataset IMDB"
      ]
    },
    {
      "cell_type": "markdown",
      "metadata": {
        "id": "6gcF-g9Q7PWZ",
        "colab_type": "text"
      },
      "source": [
        "### Le Dataset IMDB\n",
        "IMDB est un jeu de données de 50 000 critiques de films, étiquetés par sentiment (positif/négatif). \n",
        "\n",
        "Le dataset est divisé en 25,000 observations d'entrainement et 25,000 de test. Chaque ensemble consistant en 50% de critiques négatives et 50% de critiques positives.\n",
        "\n",
        "Les commentaires ont été pré-traités, et chaque critique est encodé sous la forme d'une séquence d'index de mots (entiers). \n",
        "\n",
        "Pour plus de commodité, les mots sont indexés par fréquence globale dans le DataSet, de sorte que, par exemple, l'entier \"3 \" encode le troisième mot le plus fréquent dans les données. Cela permet des opérations de filtrage rapide telles que: \"seulement considérer le Top 10 000 les mots les plus courants\".\n",
        "\n",
        "Par convention, \"0 \" ne représente pas un mot spécifique, mais est utilisé pour coder n'importe quel mot inconnu.\n",
        "\n",
        "\n",
        "\n",
        "\n",
        "---\n",
        "\n",
        "\n",
        "IMDB est intégrée dans Keras. Le dataset a été déjà préparée. Donc c'est un dataset de choix pour commencer a créer rapidement des modèles de classification.\n",
        "\n",
        "\n",
        "Commencant par charger le dataset."
      ]
    },
    {
      "cell_type": "markdown",
      "metadata": {
        "id": "d6p7nzwi7ms3",
        "colab_type": "text"
      },
      "source": [
        "### Chargement"
      ]
    },
    {
      "cell_type": "code",
      "metadata": {
        "id": "nKBUQloxdf4v",
        "colab_type": "code",
        "outputId": "c542a4b8-5b85-4bf2-dab5-e80d8949f741",
        "colab": {
          "base_uri": "https://localhost:8080/",
          "height": 51
        }
      },
      "source": [
        "(train_data, train_labels), (test_data, test_labels) = imdb.load_data(num_words=10000)"
      ],
      "execution_count": 6,
      "outputs": [
        {
          "output_type": "stream",
          "text": [
            "Downloading data from https://s3.amazonaws.com/text-datasets/imdb.npz\n",
            "17465344/17464789 [==============================] - 1s 0us/step\n"
          ],
          "name": "stdout"
        }
      ]
    },
    {
      "cell_type": "markdown",
      "metadata": {
        "id": "Ad1dlSupeRhg",
        "colab_type": "text"
      },
      "source": [
        "L'argument num_words=10000 veut dire que nous allons garder que le top 10.000 mots les plus fréquents dans le dataset"
      ]
    },
    {
      "cell_type": "code",
      "metadata": {
        "id": "M7EfDUgjewVy",
        "colab_type": "code",
        "outputId": "018fd213-6909-4e9c-cc40-b0137d9875a8",
        "colab": {
          "base_uri": "https://localhost:8080/",
          "height": 34
        }
      },
      "source": [
        "# le format du dataset de training\n",
        "train_data.shape"
      ],
      "execution_count": 0,
      "outputs": [
        {
          "output_type": "execute_result",
          "data": {
            "text/plain": [
              "(25000,)"
            ]
          },
          "metadata": {
            "tags": []
          },
          "execution_count": 8
        }
      ]
    },
    {
      "cell_type": "code",
      "metadata": {
        "id": "06PsJUHTe5W8",
        "colab_type": "code",
        "colab": {}
      },
      "source": [
        "# Regardons un exemple\n",
        "train_data[0]"
      ],
      "execution_count": 0,
      "outputs": []
    },
    {
      "cell_type": "code",
      "metadata": {
        "id": "xvpCYD-WfL7k",
        "colab_type": "code",
        "outputId": "2ec950c6-9fa5-4b9c-db64-1b07bebb1793",
        "colab": {
          "base_uri": "https://localhost:8080/",
          "height": 34
        }
      },
      "source": [
        "max([max(sequence) for sequence in train_data])"
      ],
      "execution_count": 0,
      "outputs": [
        {
          "output_type": "execute_result",
          "data": {
            "text/plain": [
              "9999"
            ]
          },
          "metadata": {
            "tags": []
          },
          "execution_count": 10
        }
      ]
    },
    {
      "cell_type": "markdown",
      "metadata": {
        "id": "El1DdjRKaHP7",
        "colab_type": "text"
      },
      "source": [
        "Faisons le mapping inverse : de l'indexe vers la critique"
      ]
    },
    {
      "cell_type": "code",
      "metadata": {
        "id": "v5aukqxGf9-y",
        "colab_type": "code",
        "colab": {}
      },
      "source": [
        "def decode_review(index):\n",
        "  # word_index est un dictionnaire qui fait le 'mapping' du mot vers l'indice (de type entier)\n",
        "  word_index = imdb.get_word_index()\n",
        "  # on l'inverse en faisant le 'mapping' indices à mot\n",
        "  reverse_word_index = dict([(value, key) for (key, value) in word_index.items()])\n",
        "  # et on décode le 'review'. À remarque que les indices sont sont décalés de 3 parce que 0, 1 et 2 sont des indices réservés pour \"padding\", \"start of sequence\" et \"unknown\"\n",
        "  decode_review = ' '.join([reverse_word_index.get(i-3, '?') for i in train_data[index]])\n",
        "  return decode_review\n"
      ],
      "execution_count": 0,
      "outputs": []
    },
    {
      "cell_type": "code",
      "metadata": {
        "id": "U0h2LRsvjTYu",
        "colab_type": "code",
        "outputId": "882cf3ac-ff89-44b5-b315-ca72309618e1",
        "colab": {
          "base_uri": "https://localhost:8080/",
          "height": 54
        }
      },
      "source": [
        "decode_review(2)"
      ],
      "execution_count": 0,
      "outputs": [
        {
          "output_type": "execute_result",
          "data": {
            "text/plain": [
              "\"? this has to be one of the worst films of the 1990s when my friends i were watching this film being the target audience it was aimed at we just sat watched the first half an hour with our jaws touching the floor at how bad it really was the rest of the time everyone else in the theatre just started talking to each other leaving or generally crying into their popcorn that they actually paid money they had ? working to watch this feeble excuse for a film it must have looked like a great idea on paper but on film it looks like no one in the film has a clue what is going on crap acting crap costumes i can't get across how ? this is to watch save yourself an hour a bit of your life\""
            ]
          },
          "metadata": {
            "tags": []
          },
          "execution_count": 14
        }
      ]
    },
    {
      "cell_type": "markdown",
      "metadata": {
        "id": "WE4bbVbzmIE7",
        "colab_type": "text"
      },
      "source": [
        "### Préparation des données\n",
        "\n",
        "Transformation de la liste d'entiers en tensor.\n",
        "On utilise la transformation *one-hot-encode*"
      ]
    },
    {
      "cell_type": "code",
      "metadata": {
        "id": "onrkkESEjvlU",
        "colab_type": "code",
        "colab": {}
      },
      "source": [
        "def vectorize_sequences(sequences, dimension=10000):\n",
        "  results = np.zeros((len(sequences),dimension))\n",
        "  for i, sequence in enumerate(sequences):\n",
        "    results[i, sequence] = 1\n",
        "  return results"
      ],
      "execution_count": 0,
      "outputs": []
    },
    {
      "cell_type": "code",
      "metadata": {
        "id": "CYfhPJykurqj",
        "colab_type": "code",
        "outputId": "a3ff6adc-077e-45c3-817a-5f9c5582aab7",
        "colab": {
          "base_uri": "https://localhost:8080/",
          "height": 51
        }
      },
      "source": [
        "\n",
        "# Expliquer la fonction avec un exemple simple\n",
        "#results = np.zeros((2,10))\n",
        "#for i, sequence in enumerate(train_data):\n",
        "#  results[i, sequence] = 1\n",
        "#  print(i)\n",
        "#  print(sequence)\n",
        "#  if i > 0: break\n",
        "#print(results[0])\n",
        "\n",
        "#results[0,[1,3]] = 1\n",
        "#print(results[0])"
      ],
      "execution_count": 0,
      "outputs": [
        {
          "output_type": "stream",
          "text": [
            "[0. 0. 0. 0. 0. 0. 0. 0. 0. 0.]\n",
            "[0. 1. 0. 1. 0. 0. 0. 0. 0. 0.]\n"
          ],
          "name": "stdout"
        }
      ]
    },
    {
      "cell_type": "code",
      "metadata": {
        "id": "QnpRsqtLsXLX",
        "colab_type": "code",
        "colab": {}
      },
      "source": [
        "x_train = vectorize_sequences(train_data)\n",
        "x_test = vectorize_sequences(test_data)"
      ],
      "execution_count": 0,
      "outputs": []
    },
    {
      "cell_type": "code",
      "metadata": {
        "id": "P-YcqyIQviHT",
        "colab_type": "code",
        "outputId": "3688c960-42d3-4cc7-e187-d15e80bc0a79",
        "colab": {
          "base_uri": "https://localhost:8080/",
          "height": 34
        }
      },
      "source": [
        "x_train[0]"
      ],
      "execution_count": 0,
      "outputs": [
        {
          "output_type": "execute_result",
          "data": {
            "text/plain": [
              "array([0., 1., 1., ..., 0., 0., 0.])"
            ]
          },
          "metadata": {
            "tags": []
          },
          "execution_count": 17
        }
      ]
    },
    {
      "cell_type": "code",
      "metadata": {
        "id": "FaZQXrRCzQIk",
        "colab_type": "code",
        "outputId": "a987aedd-fb99-4491-8bf2-368bb9fd4b94",
        "colab": {
          "base_uri": "https://localhost:8080/",
          "height": 34
        }
      },
      "source": [
        "x_train.shape"
      ],
      "execution_count": 0,
      "outputs": [
        {
          "output_type": "execute_result",
          "data": {
            "text/plain": [
              "(25000, 10000)"
            ]
          },
          "metadata": {
            "tags": []
          },
          "execution_count": 18
        }
      ]
    },
    {
      "cell_type": "markdown",
      "metadata": {
        "id": "TIBiIaRayzHE",
        "colab_type": "text"
      },
      "source": [
        "La Vectorisation des labels est plus simple..."
      ]
    },
    {
      "cell_type": "code",
      "metadata": {
        "id": "M5PAH4Apvx_h",
        "colab_type": "code",
        "colab": {}
      },
      "source": [
        "y_train = np.asarray(train_labels).astype('float32')\n",
        "y_test = np.asarray(test_labels).astype('float32')"
      ],
      "execution_count": 0,
      "outputs": []
    },
    {
      "cell_type": "markdown",
      "metadata": {
        "id": "BrJQ2hapwI3h",
        "colab_type": "text"
      },
      "source": [
        "## Étape 3: Définition de l'architecture du modèle\n",
        "Dans ce labo nous allons utiliser un resau de neurones fully connected"
      ]
    },
    {
      "cell_type": "code",
      "metadata": {
        "id": "ZKf4M8mtwG1u",
        "colab_type": "code",
        "outputId": "59597483-b990-4dc6-df6c-019adde0b310",
        "colab": {
          "base_uri": "https://localhost:8080/",
          "height": 309
        }
      },
      "source": [
        "model = models.Sequential()\n",
        "model.add(layers.Dense(16, activation='relu', input_shape=(x_train.shape[1],)))\n",
        "model.add(layers.Dense(16, activation='relu'))\n",
        "model.add(layers.Dense(1,activation='sigmoid'))\n",
        "\n",
        "model.summary()"
      ],
      "execution_count": 0,
      "outputs": [
        {
          "output_type": "stream",
          "text": [
            "WARNING:tensorflow:From /usr/local/lib/python3.6/dist-packages/tensorflow/python/framework/op_def_library.py:263: colocate_with (from tensorflow.python.framework.ops) is deprecated and will be removed in a future version.\n",
            "Instructions for updating:\n",
            "Colocations handled automatically by placer.\n",
            "_________________________________________________________________\n",
            "Layer (type)                 Output Shape              Param #   \n",
            "=================================================================\n",
            "dense_1 (Dense)              (None, 16)                160016    \n",
            "_________________________________________________________________\n",
            "dense_2 (Dense)              (None, 16)                272       \n",
            "_________________________________________________________________\n",
            "dense_3 (Dense)              (None, 1)                 17        \n",
            "=================================================================\n",
            "Total params: 160,305\n",
            "Trainable params: 160,305\n",
            "Non-trainable params: 0\n",
            "_________________________________________________________________\n"
          ],
          "name": "stdout"
        }
      ]
    },
    {
      "cell_type": "code",
      "metadata": {
        "id": "utFnldZOz22d",
        "colab_type": "code",
        "colab": {}
      },
      "source": [
        "model.compile(optimizer=optimizers.RMSprop(lr=0.01),\n",
        "              loss=losses.binary_crossentropy,\n",
        "              metrics=[metrics.binary_accuracy])"
      ],
      "execution_count": 0,
      "outputs": []
    },
    {
      "cell_type": "markdown",
      "metadata": {
        "id": "x5G6B6UG1Bb1",
        "colab_type": "text"
      },
      "source": [
        "## Étape 4: Entrainement du modèle\n",
        "Creation d'un dataset de validation"
      ]
    },
    {
      "cell_type": "code",
      "metadata": {
        "id": "q6LcxDPa0RFo",
        "colab_type": "code",
        "colab": {}
      },
      "source": [
        "x_val = x_train[:5000]\n",
        "partial_x_train = x_train[5000:]\n",
        "\n",
        "y_val = y_train[:5000]\n",
        "partial_y_train = y_train[5000:]"
      ],
      "execution_count": 0,
      "outputs": []
    },
    {
      "cell_type": "markdown",
      "metadata": {
        "id": "02sg23G7_5Z7",
        "colab_type": "text"
      },
      "source": [
        "On peut maintenant entrainer le model"
      ]
    },
    {
      "cell_type": "code",
      "metadata": {
        "id": "_ceDn7m91YJj",
        "colab_type": "code",
        "outputId": "03464b06-e752-4172-e642-af63d548f72c",
        "colab": {
          "base_uri": "https://localhost:8080/",
          "height": 785
        }
      },
      "source": [
        "history = model.fit(partial_x_train,\n",
        "                    partial_y_train,\n",
        "                    epochs=20,\n",
        "                    batch_size=512,\n",
        "                    validation_data=(x_val, y_val))"
      ],
      "execution_count": 0,
      "outputs": [
        {
          "output_type": "stream",
          "text": [
            "WARNING:tensorflow:From /usr/local/lib/python3.6/dist-packages/tensorflow/python/ops/math_ops.py:3066: to_int32 (from tensorflow.python.ops.math_ops) is deprecated and will be removed in a future version.\n",
            "Instructions for updating:\n",
            "Use tf.cast instead.\n",
            "Train on 20000 samples, validate on 5000 samples\n",
            "Epoch 1/20\n",
            "20000/20000 [==============================] - 3s 153us/step - loss: 0.5176 - binary_accuracy: 0.7674 - val_loss: 0.3063 - val_binary_accuracy: 0.8730\n",
            "Epoch 2/20\n",
            "20000/20000 [==============================] - 3s 150us/step - loss: 0.2512 - binary_accuracy: 0.8993 - val_loss: 0.3754 - val_binary_accuracy: 0.8592\n",
            "Epoch 3/20\n",
            "20000/20000 [==============================] - 3s 143us/step - loss: 0.1947 - binary_accuracy: 0.9233 - val_loss: 0.3589 - val_binary_accuracy: 0.8754\n",
            "Epoch 4/20\n",
            "20000/20000 [==============================] - 3s 142us/step - loss: 0.1493 - binary_accuracy: 0.9376 - val_loss: 0.3278 - val_binary_accuracy: 0.8852\n",
            "Epoch 5/20\n",
            "20000/20000 [==============================] - 3s 143us/step - loss: 0.1041 - binary_accuracy: 0.9595 - val_loss: 0.4193 - val_binary_accuracy: 0.8834\n",
            "Epoch 6/20\n",
            "20000/20000 [==============================] - 3s 144us/step - loss: 0.1172 - binary_accuracy: 0.9682 - val_loss: 0.5063 - val_binary_accuracy: 0.8768\n",
            "Epoch 7/20\n",
            "20000/20000 [==============================] - 3s 142us/step - loss: 0.0852 - binary_accuracy: 0.9768 - val_loss: 0.5720 - val_binary_accuracy: 0.8716\n",
            "Epoch 8/20\n",
            "20000/20000 [==============================] - 3s 143us/step - loss: 0.0659 - binary_accuracy: 0.9832 - val_loss: 0.6004 - val_binary_accuracy: 0.8816\n",
            "Epoch 9/20\n",
            "20000/20000 [==============================] - 3s 142us/step - loss: 0.0701 - binary_accuracy: 0.9841 - val_loss: 0.6299 - val_binary_accuracy: 0.8786\n",
            "Epoch 10/20\n",
            "20000/20000 [==============================] - 3s 143us/step - loss: 0.0804 - binary_accuracy: 0.9843 - val_loss: 0.6541 - val_binary_accuracy: 0.8784\n",
            "Epoch 11/20\n",
            "20000/20000 [==============================] - 3s 142us/step - loss: 0.0061 - binary_accuracy: 0.9973 - val_loss: 0.8186 - val_binary_accuracy: 0.8764\n",
            "Epoch 12/20\n",
            "20000/20000 [==============================] - 3s 143us/step - loss: 0.0704 - binary_accuracy: 0.9883 - val_loss: 0.8090 - val_binary_accuracy: 0.8766\n",
            "Epoch 13/20\n",
            "20000/20000 [==============================] - 3s 146us/step - loss: 0.0030 - binary_accuracy: 0.9992 - val_loss: 0.9270 - val_binary_accuracy: 0.8738\n",
            "Epoch 14/20\n",
            "20000/20000 [==============================] - 3s 143us/step - loss: 0.0731 - binary_accuracy: 0.9896 - val_loss: 0.9057 - val_binary_accuracy: 0.8784\n",
            "Epoch 15/20\n",
            "20000/20000 [==============================] - 3s 142us/step - loss: 0.0021 - binary_accuracy: 0.9994 - val_loss: 0.9718 - val_binary_accuracy: 0.8784\n",
            "Epoch 16/20\n",
            "20000/20000 [==============================] - 3s 142us/step - loss: 0.0014 - binary_accuracy: 0.9996 - val_loss: 1.1111 - val_binary_accuracy: 0.8786\n",
            "Epoch 17/20\n",
            "20000/20000 [==============================] - 3s 143us/step - loss: 0.0871 - binary_accuracy: 0.9906 - val_loss: 1.0520 - val_binary_accuracy: 0.8798\n",
            "Epoch 18/20\n",
            "20000/20000 [==============================] - 3s 143us/step - loss: 0.0600 - binary_accuracy: 0.9914 - val_loss: 1.0417 - val_binary_accuracy: 0.8728\n",
            "Epoch 19/20\n",
            "20000/20000 [==============================] - 3s 142us/step - loss: 0.0019 - binary_accuracy: 0.9997 - val_loss: 1.0999 - val_binary_accuracy: 0.8758\n",
            "Epoch 20/20\n",
            "20000/20000 [==============================] - 3s 143us/step - loss: 5.6687e-04 - binary_accuracy: 0.9999 - val_loss: 1.1640 - val_binary_accuracy: 0.8752\n"
          ],
          "name": "stdout"
        }
      ]
    },
    {
      "cell_type": "markdown",
      "metadata": {
        "id": "P5Co1DEj9Jj2",
        "colab_type": "text"
      },
      "source": [
        "## Étape 5: Évaluation du modèle"
      ]
    },
    {
      "cell_type": "code",
      "metadata": {
        "id": "cSfbHB9U2ZoK",
        "colab_type": "code",
        "colab": {}
      },
      "source": [
        "history_dict = history.history\n",
        "history_dict.keys()\n",
        "\n",
        "acc = history.history[\"binary_accuracy\"]\n",
        "val_acc = history.history[\"val_binary_accuracy\"]\n",
        "loss = history.history[\"loss\"]\n",
        "val_loss = history.history[\"val_loss\"]\n",
        "\n",
        "epochs = range(1,len(acc)+1)"
      ],
      "execution_count": 0,
      "outputs": []
    },
    {
      "cell_type": "code",
      "metadata": {
        "id": "2wrkAbTQ32yn",
        "colab_type": "code",
        "outputId": "73361c4f-664e-4e51-c521-e50b2a51b54f",
        "colab": {
          "base_uri": "https://localhost:8080/",
          "height": 295
        }
      },
      "source": [
        "plot_history(epochs, acc, val_acc, 'Training accuracy', 'Validation accuracy', 'Epochs', 'Accuracy','Training and validation Accuracy')"
      ],
      "execution_count": 0,
      "outputs": [
        {
          "output_type": "display_data",
          "data": {
            "image/png": "[encoded data removed]",
            "text/plain": [
              "<Figure size 432x288 with 1 Axes>"
            ]
          },
          "metadata": {
            "tags": []
          }
        }
      ]
    },
    {
      "cell_type": "code",
      "metadata": {
        "id": "YURWebqj67CB",
        "colab_type": "code",
        "outputId": "bd5eaf5a-f057-4fd4-c430-f60ac6109576",
        "colab": {
          "base_uri": "https://localhost:8080/",
          "height": 295
        }
      },
      "source": [
        "plot_history(epochs, loss, val_loss, 'Training loss', 'Validation loss', 'Epochs', 'Loss','Training and validation loss')"
      ],
      "execution_count": 0,
      "outputs": [
        {
          "output_type": "display_data",
          "data": {
            "image/png": "[encoded data removed]",
            "text/plain": [
              "<Figure size 432x288 with 1 Axes>"
            ]
          },
          "metadata": {
            "tags": []
          }
        }
      ]
    },
    {
      "cell_type": "code",
      "metadata": {
        "id": "7FZTuMsdVAfp",
        "colab_type": "code",
        "outputId": "89182a20-609b-49f8-f83a-a68721d08ddd",
        "colab": {
          "base_uri": "https://localhost:8080/",
          "height": 51
        }
      },
      "source": [
        "results = model.evaluate(x_test, y_test)\n",
        "print('test accuracy:', results[1])"
      ],
      "execution_count": 0,
      "outputs": [
        {
          "output_type": "stream",
          "text": [
            "25000/25000 [==============================] - 2s 95us/step\n",
            "test accuracy: 0.85716\n"
          ],
          "name": "stdout"
        }
      ]
    },
    {
      "cell_type": "code",
      "metadata": {
        "id": "0erKx2oXWrhQ",
        "colab_type": "code",
        "outputId": "76b37ff7-73c5-4d86-ccce-4eff215f9b01",
        "colab": {
          "base_uri": "https://localhost:8080/",
          "height": 51
        }
      },
      "source": [
        "print('train accuracy:', model.evaluate(x_train, y_train)[1])"
      ],
      "execution_count": 0,
      "outputs": [
        {
          "output_type": "stream",
          "text": [
            "25000/25000 [==============================] - 5s 190us/step\n",
            "train accuracy: 0.975\n"
          ],
          "name": "stdout"
        }
      ]
    },
    {
      "cell_type": "markdown",
      "metadata": {
        "id": "xmABT7VgLquv",
        "colab_type": "text"
      },
      "source": [
        "Nous avons un probleme de sur-apprentissage.\n",
        "Essayer d'ajouter de la regularisation L2"
      ]
    },
    {
      "cell_type": "markdown",
      "metadata": {
        "id": "xfwwwaw59bQ3",
        "colab_type": "text"
      },
      "source": [
        "## Étape 5: Regularisation"
      ]
    },
    {
      "cell_type": "code",
      "metadata": {
        "id": "FAFWCPtf7eXD",
        "colab_type": "code",
        "outputId": "4a7d0a93-0914-423a-f842-227ae2136d1f",
        "colab": {
          "base_uri": "https://localhost:8080/",
          "height": 748
        }
      },
      "source": [
        "from keras import regularizers\n",
        "\n",
        "l2_model = models.Sequential()\n",
        "l2_model.add(layers.Dense(16, activation='relu', kernel_regularizer=regularizers.l2(0.1),\n",
        "                       input_shape=(x_train.shape[1],)))\n",
        "l2_model.add(layers.Dense(16, activation='relu', kernel_regularizer=regularizers.l2(0.1)))\n",
        "l2_model.add(layers.Dense(1, activation='sigmoid'))\n",
        "\n",
        "l2_model.compile(optimizer = 'rmsprop',\n",
        "             loss='binary_crossentropy',\n",
        "             metrics=['accuracy'])\n",
        "\n",
        "l2_history = l2_model.fit(partial_x_train,\n",
        "                          partial_y_train,\n",
        "                          epochs=20,\n",
        "                          batch_size=512,\n",
        "                          validation_data=(x_val, y_val)\n",
        "                         )\n",
        "\n",
        "l2_results = l2_model.evaluate(x_test, y_test)\n",
        "print('l2 model test accuracy:', l2_results[1])"
      ],
      "execution_count": 0,
      "outputs": [
        {
          "output_type": "stream",
          "text": [
            "Train on 20000 samples, validate on 5000 samples\n",
            "Epoch 1/20\n",
            "20000/20000 [==============================] - 3s 164us/step - loss: 2.2887 - acc: 0.7582 - val_loss: 1.7373 - val_acc: 0.8204\n",
            "Epoch 2/20\n",
            "20000/20000 [==============================] - 3s 145us/step - loss: 1.5782 - acc: 0.8264 - val_loss: 1.4561 - val_acc: 0.7436\n",
            "Epoch 3/20\n",
            "20000/20000 [==============================] - 3s 144us/step - loss: 1.3118 - acc: 0.8243 - val_loss: 1.1984 - val_acc: 0.8308\n",
            "Epoch 4/20\n",
            "20000/20000 [==============================] - 3s 143us/step - loss: 1.1022 - acc: 0.8187 - val_loss: 1.0573 - val_acc: 0.7236\n",
            "Epoch 5/20\n",
            "20000/20000 [==============================] - 3s 145us/step - loss: 0.9432 - acc: 0.8203 - val_loss: 0.9002 - val_acc: 0.7698\n",
            "Epoch 6/20\n",
            "20000/20000 [==============================] - 3s 144us/step - loss: 0.8271 - acc: 0.8198 - val_loss: 0.8096 - val_acc: 0.7586\n",
            "Epoch 7/20\n",
            "20000/20000 [==============================] - 3s 144us/step - loss: 0.7451 - acc: 0.8263 - val_loss: 0.7154 - val_acc: 0.8280\n",
            "Epoch 8/20\n",
            "20000/20000 [==============================] - 3s 144us/step - loss: 0.6915 - acc: 0.8211 - val_loss: 0.6920 - val_acc: 0.7876\n",
            "Epoch 9/20\n",
            "20000/20000 [==============================] - 3s 144us/step - loss: 0.6559 - acc: 0.8244 - val_loss: 0.6721 - val_acc: 0.7732\n",
            "Epoch 10/20\n",
            "20000/20000 [==============================] - 3s 144us/step - loss: 0.6366 - acc: 0.8261 - val_loss: 0.6284 - val_acc: 0.8394\n",
            "Epoch 11/20\n",
            "20000/20000 [==============================] - 3s 144us/step - loss: 0.6204 - acc: 0.8322 - val_loss: 0.6162 - val_acc: 0.8438\n",
            "Epoch 12/20\n",
            "20000/20000 [==============================] - 3s 143us/step - loss: 0.6185 - acc: 0.8283 - val_loss: 0.6461 - val_acc: 0.7788\n",
            "Epoch 13/20\n",
            "20000/20000 [==============================] - 3s 144us/step - loss: 0.6045 - acc: 0.8366 - val_loss: 0.6020 - val_acc: 0.8406\n",
            "Epoch 14/20\n",
            "20000/20000 [==============================] - 3s 142us/step - loss: 0.5992 - acc: 0.8401 - val_loss: 0.6075 - val_acc: 0.8276\n",
            "Epoch 15/20\n",
            "20000/20000 [==============================] - 3s 143us/step - loss: 0.5968 - acc: 0.8333 - val_loss: 0.5987 - val_acc: 0.8364\n",
            "Epoch 16/20\n",
            "20000/20000 [==============================] - 4s 198us/step - loss: 0.5856 - acc: 0.8414 - val_loss: 0.6522 - val_acc: 0.7498\n",
            "Epoch 17/20\n",
            "20000/20000 [==============================] - 3s 150us/step - loss: 0.5811 - acc: 0.8427 - val_loss: 0.6126 - val_acc: 0.8032\n",
            "Epoch 18/20\n",
            "20000/20000 [==============================] - 3s 143us/step - loss: 0.5774 - acc: 0.8427 - val_loss: 0.5759 - val_acc: 0.8426\n",
            "Epoch 19/20\n",
            "20000/20000 [==============================] - 3s 144us/step - loss: 0.5693 - acc: 0.8451 - val_loss: 0.5733 - val_acc: 0.8444\n",
            "Epoch 20/20\n",
            "20000/20000 [==============================] - 3s 143us/step - loss: 0.5668 - acc: 0.8484 - val_loss: 0.6058 - val_acc: 0.8022\n",
            "25000/25000 [==============================] - 3s 107us/step\n",
            "l2 model test accuracy: 0.80648\n"
          ],
          "name": "stdout"
        }
      ]
    },
    {
      "cell_type": "code",
      "metadata": {
        "id": "8ECxlDXMW3Z5",
        "colab_type": "code",
        "outputId": "8328882a-9be3-44b5-a73b-629f9209490b",
        "colab": {
          "base_uri": "https://localhost:8080/",
          "height": 85
        }
      },
      "source": [
        "print('l2 train accuracy:', l2_model.evaluate(x_train, y_train)[1])\n",
        "\n",
        "results = l2_model.evaluate(x_test, y_test)\n",
        "print('test accuracy:', results[1])"
      ],
      "execution_count": 0,
      "outputs": [
        {
          "output_type": "stream",
          "text": [
            "25000/25000 [==============================] - 3s 115us/step\n",
            "l2 train accuracy: 0.82088\n",
            "25000/25000 [==============================] - 3s 111us/step\n",
            "test accuracy: 0.80648\n"
          ],
          "name": "stdout"
        }
      ]
    },
    {
      "cell_type": "markdown",
      "metadata": {
        "id": "olPFysUC_M_a",
        "colab_type": "text"
      },
      "source": [
        "**Predictions**"
      ]
    },
    {
      "cell_type": "code",
      "metadata": {
        "id": "hhGwRmko_Kfi",
        "colab_type": "code",
        "outputId": "c801ce52-ce2c-4781-ac82-919fadaa10c9",
        "colab": {
          "base_uri": "https://localhost:8080/",
          "height": 138
        }
      },
      "source": [
        "model.predict(x_test)"
      ],
      "execution_count": 0,
      "outputs": [
        {
          "output_type": "execute_result",
          "data": {
            "text/plain": [
              "array([[0.21604328],\n",
              "       [0.9997979 ],\n",
              "       [0.9381573 ],\n",
              "       ...,\n",
              "       [0.13183375],\n",
              "       [0.05760219],\n",
              "       [0.6786002 ]], dtype=float32)"
            ]
          },
          "metadata": {
            "tags": []
          },
          "execution_count": 75
        }
      ]
    },
    {
      "cell_type": "markdown",
      "metadata": {
        "id": "WlIdDuWHCFyZ",
        "colab_type": "text"
      },
      "source": [
        "## Étape 7: Modele recurrent: LSTM"
      ]
    },
    {
      "cell_type": "code",
      "metadata": {
        "id": "8UOeHCT8CNir",
        "colab_type": "code",
        "outputId": "7053ca02-90b7-4f87-b6f5-1cba43f90206",
        "colab": {
          "base_uri": "https://localhost:8080/",
          "height": 119
        }
      },
      "source": [
        "from keras.preprocessing import sequence\n",
        "\n",
        "max_features = 10000  # number of words to consider as features\n",
        "maxlen = 500  # cut texts after this number of words (among top max_features most common words)\n",
        "batch_size = 32\n",
        "\n",
        "print('Loading data...')\n",
        "(input_train, y_train), (input_test, y_test) = imdb.load_data(num_words=max_features)\n",
        "print(len(input_train), 'train sequences')\n",
        "print(len(input_test), 'test sequences')\n",
        "\n",
        "print('Pad sequences (samples x time)')\n",
        "input_train = sequence.pad_sequences(input_train, maxlen=maxlen)\n",
        "input_test = sequence.pad_sequences(input_test, maxlen=maxlen)\n",
        "print('input_train shape:', input_train.shape)\n",
        "print('input_test shape:', input_test.shape)"
      ],
      "execution_count": 12,
      "outputs": [
        {
          "output_type": "stream",
          "text": [
            "Loading data...\n",
            "25000 train sequences\n",
            "25000 test sequences\n",
            "Pad sequences (samples x time)\n",
            "input_train shape: (25000, 500)\n",
            "input_test shape: (25000, 500)\n"
          ],
          "name": "stdout"
        }
      ]
    },
    {
      "cell_type": "code",
      "metadata": {
        "id": "Gu97YmW6a_8X",
        "colab_type": "code",
        "outputId": "d4d4c5a1-a8a0-4df5-9386-1ace8adc1c83",
        "colab": {
          "base_uri": "https://localhost:8080/",
          "height": 374
        }
      },
      "source": [
        "from keras.layers import LSTM\n",
        "\n",
        "lstm_model = models.Sequential()\n",
        "lstm_model.add(layers.Embedding(max_features, 32))\n",
        "lstm_model.add(layers.LSTM(16))\n",
        "lstm_model.add(layers.Dense(1, activation='sigmoid'))\n",
        "\n",
        "lstm_model.compile(optimizer='rmsprop',\n",
        "                   loss='binary_crossentropy',\n",
        "                   metrics=['acc'])\n",
        "history = lstm_model.fit(input_train, y_train,\n",
        "                    epochs=10,\n",
        "                    batch_size=512,\n",
        "                    validation_split=0.2)\n"
      ],
      "execution_count": 14,
      "outputs": [
        {
          "output_type": "stream",
          "text": [
            "Train on 20000 samples, validate on 5000 samples\n",
            "Epoch 1/10\n",
            "20000/20000 [==============================] - 26s 1ms/step - loss: 0.6406 - acc: 0.6645 - val_loss: 0.5254 - val_acc: 0.7932\n",
            "Epoch 2/10\n",
            "20000/20000 [==============================] - 27s 1ms/step - loss: 0.4505 - acc: 0.8260 - val_loss: 0.4133 - val_acc: 0.8444\n",
            "Epoch 3/10\n",
            "20000/20000 [==============================] - 25s 1ms/step - loss: 0.3583 - acc: 0.8710 - val_loss: 0.4366 - val_acc: 0.8088\n",
            "Epoch 4/10\n",
            "20000/20000 [==============================] - 25s 1ms/step - loss: 0.3024 - acc: 0.8940 - val_loss: 0.3350 - val_acc: 0.8708\n",
            "Epoch 5/10\n",
            "20000/20000 [==============================] - 26s 1ms/step - loss: 0.2598 - acc: 0.9098 - val_loss: 0.4156 - val_acc: 0.8138\n",
            "Epoch 6/10\n",
            "20000/20000 [==============================] - 25s 1ms/step - loss: 0.2341 - acc: 0.9186 - val_loss: 0.3640 - val_acc: 0.8494\n",
            "Epoch 7/10\n",
            "20000/20000 [==============================] - 25s 1ms/step - loss: 0.2113 - acc: 0.9268 - val_loss: 0.3654 - val_acc: 0.8480\n",
            "Epoch 8/10\n",
            "20000/20000 [==============================] - 25s 1ms/step - loss: 0.1917 - acc: 0.9345 - val_loss: 0.3178 - val_acc: 0.8814\n",
            "Epoch 9/10\n",
            "20000/20000 [==============================] - 26s 1ms/step - loss: 0.1655 - acc: 0.9457 - val_loss: 0.3500 - val_acc: 0.8724\n",
            "Epoch 10/10\n",
            "20000/20000 [==============================] - 25s 1ms/step - loss: 0.1559 - acc: 0.9473 - val_loss: 0.3415 - val_acc: 0.8660\n"
          ],
          "name": "stdout"
        }
      ]
    },
    {
      "cell_type": "code",
      "metadata": {
        "id": "HhOqBnnva5ix",
        "colab_type": "code",
        "outputId": "36f52670-9ddc-40b2-b1e9-a6abfa582e7b",
        "colab": {
          "base_uri": "https://localhost:8080/",
          "height": 51
        }
      },
      "source": [
        "lstm_results = lstm_model.evaluate(input_test, y_test)\n",
        "print('l2 model test accuracy:', lstm_results[1])"
      ],
      "execution_count": 15,
      "outputs": [
        {
          "output_type": "stream",
          "text": [
            "25000/25000 [==============================] - 100s 4ms/step\n",
            "l2 model test accuracy: 0.86092\n"
          ],
          "name": "stdout"
        }
      ]
    }
  ]
}